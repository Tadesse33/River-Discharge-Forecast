{
 "cells": [
  {
   "cell_type": "markdown",
   "metadata": {},
   "source": [
    "#                                                **River Flow Forecasting**\n",
    "\n",
    "A time series streamflow data is analyzed to forecast river flow and characterize the hydrological regime of the Yakima Gap-to-Gap reach of Yakima River, Washington. The methods applied are:\n",
    "\n",
    "Part I - Clean and Transform Data\n",
    "+ Load water resources data from USGS observation stations \n",
    "+ Clean data (handle missing values, duplicates, outliers) \n",
    "+ Transform data into time series format\n",
    "+ Visualize time series to inspect exclude outliers or made some other pre-processing\n",
    "\n",
    "Part II - Forcast Flow with Autoregressive Integrated Moving Average (ARIMA)model\n",
    "+ Explore time series to understand trend and seasonal components\n",
    "+ Apply visual and statistical tests to check if the data is stationary. ARIMA model assumed that data is stationary.\n",
    "+ Fit and validate ARIMA model\n",
    "+ Tune up hyperparameter to optimize model performance\n",
    "\n",
    "Part III - Forcast Flow with Long Short-Term Memory (LSTM) model\n",
    "+ Prepare LSTM data \n",
    "+ Train LSTM network\n",
    "+ Tune up hyperparameter to optimize model performance\n",
    "\n",
    "To make the codes run smoothly, three separate notebooks are created for each method. This specific notebook presents the data cleaning and transformation component. \n",
    "\n",
    "Note: River discharge is the volume of water passing a point in a given time (cubic feet per second), where as river flow is the rate of water flow (feet per second). Since the data is taken for a given section of a river, cross-section is constant. Therefore, discharge and flow have the same meaning and are used interchangeably. "
   ]
  },
  {
   "cell_type": "markdown",
   "metadata": {},
   "source": [
    "## Data Source (USGS Water Resources Record)\n",
    "Water Resources data for the Yakima River near the Gap-to-Gap reach is available from two USGS gage stations.\n",
    "+ Yakima River above Ahtanum Creek ([Station 12500450](https://maps.waterdata.usgs.gov/mapper/index.html)) at Union Gap, WA\n",
    "+ Ahtanum Creek ([station 12502500)](https://maps.waterdata.usgs.gov/mapper/index.html) at Union Gap, WA\n",
    "\n",
    "Daily flow data for [12500450](https://waterdata.usgs.gov/wa/nwis/dv?referred_module=sw&search_site_no=12500450&search_site_no_match_type=exact&site_tp_cd=OC&site_tp_cd=OC-CO&site_tp_cd=ES&site_tp_cd=LK&site_tp_cd=ST&site_tp_cd=ST-CA&site_tp_cd=ST-DCH&site_tp_cd=ST-TS&group_key=NONE&sitefile_output_format=html_table&column_name=agency_cd&column_name=site_no&column_name=station_nm&range_selection=date_range&begin_date=1950-03-31&end_date=2019-03-17&format=rdb&date_format=YYYY-MM-DD&rdb_compression=value&list_of_search_criteria=search_site_no%2Csite_tp_cd%2Crealtime_parameter_selection) and [12502500](https://waterdata.usgs.gov/wa/nwis/dv?referred_module=sw&search_site_no=12502500&search_site_no_match_type=exact&site_tp_cd=OC&site_tp_cd=OC-CO&site_tp_cd=ES&site_tp_cd=LK&site_tp_cd=ST&site_tp_cd=ST-CA&site_tp_cd=ST-DCH&site_tp_cd=ST-TS&group_key=NONE&sitefile_output_format=html_table&column_name=agency_cd&column_name=site_no&column_name=station_nm&period=365&range_selection=date_range&begin_date=2018-03-18&end_date=2019-03-17&format=rdb&date_format=YYYY-MM-DD&rdb_compression=value&list_of_search_criteria=search_site_no%2Csite_tp_cd%2Crealtime_parameter_selection) stations for a period of 1960 through 2019 is loaded from USGS real time data source. \n",
    "\n",
    "+ Data dictionary for site 12500450\n",
    "            TS    parameter  statistic     Description\n",
    "        149964       00010     00001     Temperature, water, degrees Celsius (Maximum)\n",
    "        149965       00010     00002     Temperature, water, degrees Celsius (Minimum)\n",
    "        149966       00010     00003     Temperature, water, degrees Celsius (Mean)\n",
    "        149967       00060     00003     Discharge, cubic feet per second (Mean)\n",
    "        149968       00065     00003     Gage height, feet (Mean)\n",
    "        \n",
    "+ Data dictionary for site 12502500\n",
    "          TS       parameter  statistic Description\n",
    "        149973       00060     00003     Discharge, cubic feet per second (Mean)\n",
    "        149974       00065     00003     Gage height, feet (Mean)"
   ]
  },
  {
   "cell_type": "markdown",
   "metadata": {},
   "source": [
    "## Daily Discharge Record at Yakima River above Ahtanum Creek station (12500450)"
   ]
  },
  {
   "cell_type": "code",
   "execution_count": 28,
   "metadata": {
    "scrolled": false
   },
   "outputs": [
    {
     "name": "stdout",
     "output_type": "stream",
     "text": [
      "(19162, 13)\n"
     ]
    },
    {
     "data": {
      "text/html": [
       "<div>\n",
       "<style scoped>\n",
       "    .dataframe tbody tr th:only-of-type {\n",
       "        vertical-align: middle;\n",
       "    }\n",
       "\n",
       "    .dataframe tbody tr th {\n",
       "        vertical-align: top;\n",
       "    }\n",
       "\n",
       "    .dataframe thead th {\n",
       "        text-align: right;\n",
       "    }\n",
       "</style>\n",
       "<table border=\"1\" class=\"dataframe\">\n",
       "  <thead>\n",
       "    <tr style=\"text-align: right;\">\n",
       "      <th></th>\n",
       "      <th>agency_cd</th>\n",
       "      <th>site_no</th>\n",
       "      <th>datetime</th>\n",
       "      <th>149964_00010_00001</th>\n",
       "      <th>149964_00010_00001_cd</th>\n",
       "      <th>149965_00010_00002</th>\n",
       "      <th>149965_00010_00002_cd</th>\n",
       "      <th>149966_00010_00003</th>\n",
       "      <th>149966_00010_00003_cd</th>\n",
       "      <th>149967_00060_00003</th>\n",
       "      <th>149967_00060_00003_cd</th>\n",
       "      <th>149968_00065_00003</th>\n",
       "      <th>149968_00065_00003_cd</th>\n",
       "    </tr>\n",
       "  </thead>\n",
       "  <tbody>\n",
       "    <tr>\n",
       "      <th>0</th>\n",
       "      <td>5s</td>\n",
       "      <td>15s</td>\n",
       "      <td>20d</td>\n",
       "      <td>14n</td>\n",
       "      <td>10s</td>\n",
       "      <td>14n</td>\n",
       "      <td>10s</td>\n",
       "      <td>14n</td>\n",
       "      <td>10s</td>\n",
       "      <td>14n</td>\n",
       "      <td>10s</td>\n",
       "      <td>14n</td>\n",
       "      <td>10s</td>\n",
       "    </tr>\n",
       "    <tr>\n",
       "      <th>1</th>\n",
       "      <td>USGS</td>\n",
       "      <td>12500450</td>\n",
       "      <td>1966-10-01</td>\n",
       "      <td>NaN</td>\n",
       "      <td>NaN</td>\n",
       "      <td>NaN</td>\n",
       "      <td>NaN</td>\n",
       "      <td>NaN</td>\n",
       "      <td>NaN</td>\n",
       "      <td>1720</td>\n",
       "      <td>A</td>\n",
       "      <td>NaN</td>\n",
       "      <td>NaN</td>\n",
       "    </tr>\n",
       "    <tr>\n",
       "      <th>2</th>\n",
       "      <td>USGS</td>\n",
       "      <td>12500450</td>\n",
       "      <td>1966-10-02</td>\n",
       "      <td>NaN</td>\n",
       "      <td>NaN</td>\n",
       "      <td>NaN</td>\n",
       "      <td>NaN</td>\n",
       "      <td>NaN</td>\n",
       "      <td>NaN</td>\n",
       "      <td>1770</td>\n",
       "      <td>A</td>\n",
       "      <td>NaN</td>\n",
       "      <td>NaN</td>\n",
       "    </tr>\n",
       "    <tr>\n",
       "      <th>3</th>\n",
       "      <td>USGS</td>\n",
       "      <td>12500450</td>\n",
       "      <td>1966-10-03</td>\n",
       "      <td>NaN</td>\n",
       "      <td>NaN</td>\n",
       "      <td>NaN</td>\n",
       "      <td>NaN</td>\n",
       "      <td>NaN</td>\n",
       "      <td>NaN</td>\n",
       "      <td>1810</td>\n",
       "      <td>A</td>\n",
       "      <td>NaN</td>\n",
       "      <td>NaN</td>\n",
       "    </tr>\n",
       "    <tr>\n",
       "      <th>4</th>\n",
       "      <td>USGS</td>\n",
       "      <td>12500450</td>\n",
       "      <td>1966-10-04</td>\n",
       "      <td>NaN</td>\n",
       "      <td>NaN</td>\n",
       "      <td>NaN</td>\n",
       "      <td>NaN</td>\n",
       "      <td>NaN</td>\n",
       "      <td>NaN</td>\n",
       "      <td>1790</td>\n",
       "      <td>A</td>\n",
       "      <td>NaN</td>\n",
       "      <td>NaN</td>\n",
       "    </tr>\n",
       "  </tbody>\n",
       "</table>\n",
       "</div>"
      ],
      "text/plain": [
       "  agency_cd   site_no    datetime 149964_00010_00001 149964_00010_00001_cd  \\\n",
       "0        5s       15s         20d                14n                   10s   \n",
       "1      USGS  12500450  1966-10-01                NaN                   NaN   \n",
       "2      USGS  12500450  1966-10-02                NaN                   NaN   \n",
       "3      USGS  12500450  1966-10-03                NaN                   NaN   \n",
       "4      USGS  12500450  1966-10-04                NaN                   NaN   \n",
       "\n",
       "  149965_00010_00002 149965_00010_00002_cd 149966_00010_00003  \\\n",
       "0                14n                   10s                14n   \n",
       "1                NaN                   NaN                NaN   \n",
       "2                NaN                   NaN                NaN   \n",
       "3                NaN                   NaN                NaN   \n",
       "4                NaN                   NaN                NaN   \n",
       "\n",
       "  149966_00010_00003_cd 149967_00060_00003 149967_00060_00003_cd  \\\n",
       "0                   10s                14n                   10s   \n",
       "1                   NaN               1720                     A   \n",
       "2                   NaN               1770                     A   \n",
       "3                   NaN               1810                     A   \n",
       "4                   NaN               1790                     A   \n",
       "\n",
       "  149968_00065_00003 149968_00065_00003_cd  \n",
       "0                14n                   10s  \n",
       "1                NaN                   NaN  \n",
       "2                NaN                   NaN  \n",
       "3                NaN                   NaN  \n",
       "4                NaN                   NaN  "
      ]
     },
     "execution_count": 28,
     "metadata": {},
     "output_type": "execute_result"
    }
   ],
   "source": [
    "import pandas as pd\n",
    "import numpy as np\n",
    "import matplotlib.pyplot as plt\n",
    "from mpl_toolkits.basemap import Basemap\n",
    "from datetime import datetime\n",
    "import matplotlib.dates as mdates\n",
    "import statsmodels.api as sm\n",
    "from statsmodels.tsa.stattools import adfuller\n",
    "\n",
    "# Load data from Yakima River above Ahtanum Creek station (12500450) URL\n",
    "pd.options.display.max_columns = 50 \n",
    "yakima_450 = pd.read_csv(\"https://waterdata.usgs.gov/wa/nwis/dv?referred_module=sw&search_site_no=12500450&search_site_no_match_type=exact&site_tp_cd=OC&site_tp_cd=OC-CO&site_tp_cd=ES&site_tp_cd=LK&site_tp_cd=ST&site_tp_cd=ST-CA&site_tp_cd=ST-DCH&site_tp_cd=ST-TS&group_key=NONE&sitefile_output_format=html_table&column_name=agency_cd&column_name=site_no&column_name=station_nm&range_selection=date_range&begin_date=1950-03-31&end_date=2019-03-17&format=rdb&date_format=YYYY-MM-DD&rdb_compression=value&list_of_search_criteria=search_site_no%2Csite_tp_cd%2Crealtime_parameter_selection.csv\", sep='\\t', header = 33)\n",
    "print(yakima_450.shape)# display number of rows and columns in tuples (rows, columns)\n",
    "yakima_450.head() # display the top five rows "
   ]
  },
  {
   "cell_type": "markdown",
   "metadata": {},
   "source": [
    "## Clean Data\n",
    "\n",
    "+ Data set contains daily records of temperature (max, min, and mean), discharge (mean), and gage height (mean). \n",
    "+ The data has two header columns. The first header column is the name of features in numerical codes and should be renamed to make it easy to understand. The second header is a piece of supplemental information that is not needed for this analysis. \n",
    "+ **\"_cd\"** in column names is a description of data-qualification code which indicates\n",
    "     + **A** - Approved for publication -- processing and review completed\n",
    "     + **P** - Provisional data subject to revision\n",
    "     + **e** - Value has been estimated\n",
    "+ Missing values need to be removed or replaced"
   ]
  },
  {
   "cell_type": "markdown",
   "metadata": {},
   "source": [
    "### Rename Columns"
   ]
  },
  {
   "cell_type": "code",
   "execution_count": 17,
   "metadata": {
    "scrolled": true
   },
   "outputs": [
    {
     "data": {
      "text/plain": [
       "Index(['agency_cd', 'site_no', 'datetime', '149964_00010_00001',\n",
       "       '149964_00010_00001_cd', '149965_00010_00002', '149965_00010_00002_cd',\n",
       "       '149966_00010_00003', '149966_00010_00003_cd', '149967_00060_00003',\n",
       "       '149967_00060_00003_cd', '149968_00065_00003', '149968_00065_00003_cd'],\n",
       "      dtype='object')"
      ]
     },
     "execution_count": 17,
     "metadata": {},
     "output_type": "execute_result"
    }
   ],
   "source": [
    "# Display columns\n",
    "yakima_450.columns"
   ]
  },
  {
   "cell_type": "code",
   "execution_count": 29,
   "metadata": {
    "scrolled": true
   },
   "outputs": [
    {
     "data": {
      "text/html": [
       "<div>\n",
       "<style scoped>\n",
       "    .dataframe tbody tr th:only-of-type {\n",
       "        vertical-align: middle;\n",
       "    }\n",
       "\n",
       "    .dataframe tbody tr th {\n",
       "        vertical-align: top;\n",
       "    }\n",
       "\n",
       "    .dataframe thead th {\n",
       "        text-align: right;\n",
       "    }\n",
       "</style>\n",
       "<table border=\"1\" class=\"dataframe\">\n",
       "  <thead>\n",
       "    <tr style=\"text-align: right;\">\n",
       "      <th></th>\n",
       "      <th>agency_cd</th>\n",
       "      <th>site_no</th>\n",
       "      <th>date</th>\n",
       "      <th>max_t</th>\n",
       "      <th>max_t_cd</th>\n",
       "      <th>min_t</th>\n",
       "      <th>min_t_cd</th>\n",
       "      <th>mean_t</th>\n",
       "      <th>mean_t_cd</th>\n",
       "      <th>mean_q_cfs</th>\n",
       "      <th>mean_q_cfs_cd</th>\n",
       "      <th>mean_h_ft</th>\n",
       "      <th>mean_h_ft_cd</th>\n",
       "    </tr>\n",
       "  </thead>\n",
       "  <tbody>\n",
       "    <tr>\n",
       "      <th>0</th>\n",
       "      <td>5s</td>\n",
       "      <td>15s</td>\n",
       "      <td>20d</td>\n",
       "      <td>14n</td>\n",
       "      <td>10s</td>\n",
       "      <td>14n</td>\n",
       "      <td>10s</td>\n",
       "      <td>14n</td>\n",
       "      <td>10s</td>\n",
       "      <td>14n</td>\n",
       "      <td>10s</td>\n",
       "      <td>14n</td>\n",
       "      <td>10s</td>\n",
       "    </tr>\n",
       "    <tr>\n",
       "      <th>1</th>\n",
       "      <td>USGS</td>\n",
       "      <td>12500450</td>\n",
       "      <td>1966-10-01</td>\n",
       "      <td>NaN</td>\n",
       "      <td>NaN</td>\n",
       "      <td>NaN</td>\n",
       "      <td>NaN</td>\n",
       "      <td>NaN</td>\n",
       "      <td>NaN</td>\n",
       "      <td>1720</td>\n",
       "      <td>A</td>\n",
       "      <td>NaN</td>\n",
       "      <td>NaN</td>\n",
       "    </tr>\n",
       "    <tr>\n",
       "      <th>2</th>\n",
       "      <td>USGS</td>\n",
       "      <td>12500450</td>\n",
       "      <td>1966-10-02</td>\n",
       "      <td>NaN</td>\n",
       "      <td>NaN</td>\n",
       "      <td>NaN</td>\n",
       "      <td>NaN</td>\n",
       "      <td>NaN</td>\n",
       "      <td>NaN</td>\n",
       "      <td>1770</td>\n",
       "      <td>A</td>\n",
       "      <td>NaN</td>\n",
       "      <td>NaN</td>\n",
       "    </tr>\n",
       "    <tr>\n",
       "      <th>3</th>\n",
       "      <td>USGS</td>\n",
       "      <td>12500450</td>\n",
       "      <td>1966-10-03</td>\n",
       "      <td>NaN</td>\n",
       "      <td>NaN</td>\n",
       "      <td>NaN</td>\n",
       "      <td>NaN</td>\n",
       "      <td>NaN</td>\n",
       "      <td>NaN</td>\n",
       "      <td>1810</td>\n",
       "      <td>A</td>\n",
       "      <td>NaN</td>\n",
       "      <td>NaN</td>\n",
       "    </tr>\n",
       "    <tr>\n",
       "      <th>4</th>\n",
       "      <td>USGS</td>\n",
       "      <td>12500450</td>\n",
       "      <td>1966-10-04</td>\n",
       "      <td>NaN</td>\n",
       "      <td>NaN</td>\n",
       "      <td>NaN</td>\n",
       "      <td>NaN</td>\n",
       "      <td>NaN</td>\n",
       "      <td>NaN</td>\n",
       "      <td>1790</td>\n",
       "      <td>A</td>\n",
       "      <td>NaN</td>\n",
       "      <td>NaN</td>\n",
       "    </tr>\n",
       "  </tbody>\n",
       "</table>\n",
       "</div>"
      ],
      "text/plain": [
       "  agency_cd   site_no        date max_t max_t_cd min_t min_t_cd mean_t  \\\n",
       "0        5s       15s         20d   14n      10s   14n      10s    14n   \n",
       "1      USGS  12500450  1966-10-01   NaN      NaN   NaN      NaN    NaN   \n",
       "2      USGS  12500450  1966-10-02   NaN      NaN   NaN      NaN    NaN   \n",
       "3      USGS  12500450  1966-10-03   NaN      NaN   NaN      NaN    NaN   \n",
       "4      USGS  12500450  1966-10-04   NaN      NaN   NaN      NaN    NaN   \n",
       "\n",
       "  mean_t_cd mean_q_cfs mean_q_cfs_cd mean_h_ft mean_h_ft_cd  \n",
       "0       10s        14n           10s       14n          10s  \n",
       "1       NaN       1720             A       NaN          NaN  \n",
       "2       NaN       1770             A       NaN          NaN  \n",
       "3       NaN       1810             A       NaN          NaN  \n",
       "4       NaN       1790             A       NaN          NaN  "
      ]
     },
     "execution_count": 29,
     "metadata": {},
     "output_type": "execute_result"
    }
   ],
   "source": [
    "# Rename columns\n",
    "cols_names = {'datetime': 'date', '149964_00010_00001': 'max_t',\n",
    "       '149964_00010_00001_cd': 'max_t_cd', '149965_00010_00002': 'min_t', '149965_00010_00002_cd': 'min_t_cd',\n",
    "       '149966_00010_00003': 'mean_t', '149966_00010_00003_cd': 'mean_t_cd', '149967_00060_00003': 'mean_q_cfs',\n",
    "       '149967_00060_00003_cd' : 'mean_q_cfs_cd', '149968_00065_00003': 'mean_h_ft', \n",
    "              '149968_00065_00003_cd': 'mean_h_ft_cd'}\n",
    "\n",
    "yakima_450 = yakima_450.rename(columns = cols_names)\n",
    "yakima_450.head()"
   ]
  },
  {
   "cell_type": "code",
   "execution_count": 30,
   "metadata": {},
   "outputs": [],
   "source": [
    "# Remove the second header at index [0]\n",
    "yakima_450 = yakima_450.copy()\n",
    "yakima_450 = yakima_450.drop(yakima_450.index[0]).reset_index()"
   ]
  },
  {
   "cell_type": "markdown",
   "metadata": {},
   "source": [
    "### Explore Data Qualification Code"
   ]
  },
  {
   "cell_type": "code",
   "execution_count": 32,
   "metadata": {
    "scrolled": false
   },
   "outputs": [
    {
     "data": {
      "text/plain": [
       "A      95.616095\n",
       "A:e     3.705443\n",
       "P       0.636710\n",
       "P:e     0.041751\n",
       "Name: mean_q_cfs_cd, dtype: float64"
      ]
     },
     "execution_count": 32,
     "metadata": {},
     "output_type": "execute_result"
    }
   ],
   "source": [
    "# Explore the QA-cd for discharge\n",
    "yakima_450['mean_q_cfs_cd'].value_counts(normalize = True)*100"
   ]
  },
  {
   "cell_type": "markdown",
   "metadata": {},
   "source": [
    "It turns out that over 99% (95.6% A & 3.7% A:e) of data quality is approved. We need to investigate data points with the provisional category (P and P:e)."
   ]
  },
  {
   "cell_type": "code",
   "execution_count": 63,
   "metadata": {
    "scrolled": true
   },
   "outputs": [
    {
     "name": "stdout",
     "output_type": "stream",
     "text": [
      "First five rows\n",
      "--------------------------------\n",
      "19031    2018-11-08\n",
      "19032    2018-11-09\n",
      "19033    2018-11-10\n",
      "19034    2018-11-11\n",
      "19035    2018-11-12\n",
      "Name: date, dtype: object\n",
      "\n",
      "Last five rows\n",
      "--------------------------------\n",
      "19156    2019-03-13\n",
      "19157    2019-03-14\n",
      "19158    2019-03-15\n",
      "19159    2019-03-16\n",
      "19160    2019-03-17\n",
      "Name: date, dtype: object\n"
     ]
    }
   ],
   "source": [
    "# Explore provisional data\n",
    "yakima_450 = yakima_450.copy()\n",
    "print ('First five rows' + '\\n' + '-'*32)\n",
    "print(yakima_450[(yakima_450['mean_q_cfs_cd'] == 'P:e') | (yakima_450['mean_q_cfs_cd'] == 'P')]['date'].head())\n",
    "print('\\n' + 'Last five rows' + '\\n' + '-'*32 )\n",
    "print(yakima_450[(yakima_450['mean_q_cfs_cd'] == 'P:e') | (yakima_450['mean_q_cfs_cd'] == 'P')]['date'].tail())"
   ]
  },
  {
   "cell_type": "markdown",
   "metadata": {},
   "source": [
    "It looks that the provisional data points are recorded/estimated in 2018-2019, which are likely under the data quality review process. These data points need to be excluded from this analysis.  "
   ]
  },
  {
   "cell_type": "markdown",
   "metadata": {},
   "source": [
    "### Separate Flow Data\n",
    "This creates a dataset of mean discharge (q_mean_cfs) and date (date) columns with rows where data qualities are approved (A, A:e)."
   ]
  },
  {
   "cell_type": "code",
   "execution_count": 71,
   "metadata": {},
   "outputs": [
    {
     "data": {
      "text/html": [
       "<div>\n",
       "<style scoped>\n",
       "    .dataframe tbody tr th:only-of-type {\n",
       "        vertical-align: middle;\n",
       "    }\n",
       "\n",
       "    .dataframe tbody tr th {\n",
       "        vertical-align: top;\n",
       "    }\n",
       "\n",
       "    .dataframe thead th {\n",
       "        text-align: right;\n",
       "    }\n",
       "</style>\n",
       "<table border=\"1\" class=\"dataframe\">\n",
       "  <thead>\n",
       "    <tr style=\"text-align: right;\">\n",
       "      <th></th>\n",
       "      <th>date</th>\n",
       "      <th>mean_q_cfs</th>\n",
       "    </tr>\n",
       "  </thead>\n",
       "  <tbody>\n",
       "    <tr>\n",
       "      <th>0</th>\n",
       "      <td>1966-10-01</td>\n",
       "      <td>1720</td>\n",
       "    </tr>\n",
       "    <tr>\n",
       "      <th>1</th>\n",
       "      <td>1966-10-02</td>\n",
       "      <td>1770</td>\n",
       "    </tr>\n",
       "    <tr>\n",
       "      <th>2</th>\n",
       "      <td>1966-10-03</td>\n",
       "      <td>1810</td>\n",
       "    </tr>\n",
       "    <tr>\n",
       "      <th>3</th>\n",
       "      <td>1966-10-04</td>\n",
       "      <td>1790</td>\n",
       "    </tr>\n",
       "    <tr>\n",
       "      <th>4</th>\n",
       "      <td>1966-10-05</td>\n",
       "      <td>1720</td>\n",
       "    </tr>\n",
       "  </tbody>\n",
       "</table>\n",
       "</div>"
      ],
      "text/plain": [
       "         date mean_q_cfs\n",
       "0  1966-10-01       1720\n",
       "1  1966-10-02       1770\n",
       "2  1966-10-03       1810\n",
       "3  1966-10-04       1790\n",
       "4  1966-10-05       1720"
      ]
     },
     "execution_count": 71,
     "metadata": {},
     "output_type": "execute_result"
    }
   ],
   "source": [
    "approved_data_450 = yakima_450[(yakima_450['mean_q_cfs_cd'] == 'A:e') | (yakima_450['mean_q_cfs_cd'] == 'A')].head()\n",
    "yakima_450_discharge = yakima_450[['date', 'mean_q_cfs']]\n",
    "yakima_450_discharge.head()"
   ]
  },
  {
   "cell_type": "code",
   "execution_count": 73,
   "metadata": {},
   "outputs": [
    {
     "data": {
      "text/html": [
       "<div>\n",
       "<style scoped>\n",
       "    .dataframe tbody tr th:only-of-type {\n",
       "        vertical-align: middle;\n",
       "    }\n",
       "\n",
       "    .dataframe tbody tr th {\n",
       "        vertical-align: top;\n",
       "    }\n",
       "\n",
       "    .dataframe thead th {\n",
       "        text-align: right;\n",
       "    }\n",
       "</style>\n",
       "<table border=\"1\" class=\"dataframe\">\n",
       "  <thead>\n",
       "    <tr style=\"text-align: right;\">\n",
       "      <th></th>\n",
       "      <th>date</th>\n",
       "      <th>mean_q_cfs</th>\n",
       "    </tr>\n",
       "  </thead>\n",
       "  <tbody>\n",
       "    <tr>\n",
       "      <th>count</th>\n",
       "      <td>19161</td>\n",
       "      <td>19161</td>\n",
       "    </tr>\n",
       "    <tr>\n",
       "      <th>unique</th>\n",
       "      <td>19161</td>\n",
       "      <td>1260</td>\n",
       "    </tr>\n",
       "    <tr>\n",
       "      <th>top</th>\n",
       "      <td>2010-06-30</td>\n",
       "      <td>3400</td>\n",
       "    </tr>\n",
       "    <tr>\n",
       "      <th>freq</th>\n",
       "      <td>1</td>\n",
       "      <td>83</td>\n",
       "    </tr>\n",
       "  </tbody>\n",
       "</table>\n",
       "</div>"
      ],
      "text/plain": [
       "              date mean_q_cfs\n",
       "count        19161      19161\n",
       "unique       19161       1260\n",
       "top     2010-06-30       3400\n",
       "freq             1         83"
      ]
     },
     "execution_count": 73,
     "metadata": {},
     "output_type": "execute_result"
    }
   ],
   "source": [
    "## Desplay data statistics\n",
    "yakima_450_discharge.describe()"
   ]
  },
  {
   "cell_type": "markdown",
   "metadata": {},
   "source": [
    "## Handle Missing Values"
   ]
  },
  {
   "cell_type": "code",
   "execution_count": 76,
   "metadata": {},
   "outputs": [
    {
     "data": {
      "text/plain": [
       "date          0\n",
       "mean_q_cfs    0\n",
       "dtype: int64"
      ]
     },
     "execution_count": 76,
     "metadata": {},
     "output_type": "execute_result"
    }
   ],
   "source": [
    "# Explore missing values\n",
    "yakima_450_discharge.isnull().sum()"
   ]
  },
  {
   "cell_type": "markdown",
   "metadata": {},
   "source": [
    "It seems that there is no missing discharge values. However, missing values can be represented with '0.' This need to be inspected"
   ]
  },
  {
   "cell_type": "code",
   "execution_count": 78,
   "metadata": {},
   "outputs": [
    {
     "name": "stdout",
     "output_type": "stream",
     "text": [
      "1000\n"
     ]
    },
    {
     "data": {
      "text/html": [
       "<div>\n",
       "<style scoped>\n",
       "    .dataframe tbody tr th:only-of-type {\n",
       "        vertical-align: middle;\n",
       "    }\n",
       "\n",
       "    .dataframe tbody tr th {\n",
       "        vertical-align: top;\n",
       "    }\n",
       "\n",
       "    .dataframe thead th {\n",
       "        text-align: right;\n",
       "    }\n",
       "</style>\n",
       "<table border=\"1\" class=\"dataframe\">\n",
       "  <thead>\n",
       "    <tr style=\"text-align: right;\">\n",
       "      <th></th>\n",
       "      <th>date</th>\n",
       "      <th>mean_q_cfs</th>\n",
       "    </tr>\n",
       "  </thead>\n",
       "  <tbody>\n",
       "  </tbody>\n",
       "</table>\n",
       "</div>"
      ],
      "text/plain": [
       "Empty DataFrame\n",
       "Columns: [date, mean_q_cfs]\n",
       "Index: []"
      ]
     },
     "execution_count": 78,
     "metadata": {},
     "output_type": "execute_result"
    }
   ],
   "source": [
    "print(yakima_450_discharge['mean_q_cfs'].min())\n",
    "yakima_450_discharge[yakima_450_discharge['mean_q_cfs']==0]"
   ]
  },
  {
   "cell_type": "markdown",
   "metadata": {},
   "source": [
    "The minimum discharge record is 1000 cfs and there is no row containing a value of 0. This confirms that the data has no missing values."
   ]
  },
  {
   "cell_type": "markdown",
   "metadata": {},
   "source": [
    "### Check Duplicates"
   ]
  },
  {
   "cell_type": "code",
   "execution_count": 87,
   "metadata": {},
   "outputs": [
    {
     "data": {
      "text/plain": [
       "count          19161\n",
       "unique         19161\n",
       "top       2010-06-30\n",
       "freq               1\n",
       "Name: date, dtype: object"
      ]
     },
     "execution_count": 87,
     "metadata": {},
     "output_type": "execute_result"
    }
   ],
   "source": [
    "# Check duplicates by displaying unique values\n",
    "yakima_450_discharge['date'].describe()"
   ]
  },
  {
   "cell_type": "markdown",
   "metadata": {},
   "source": [
    "Since the total data point count is equal to the number of unique dates, there is no duplicate in the time series."
   ]
  },
  {
   "cell_type": "markdown",
   "metadata": {},
   "source": [
    "### Transform Data to Time Series"
   ]
  },
  {
   "cell_type": "code",
   "execution_count": 7,
   "metadata": {
    "scrolled": true
   },
   "outputs": [
    {
     "name": "stdout",
     "output_type": "stream",
     "text": [
      "<class 'pandas.core.frame.DataFrame'>\n",
      "Int64Index: 19161 entries, 0 to 19160\n",
      "Data columns (total 2 columns):\n",
      "date          19161 non-null object\n",
      "mean_q_cfs    19161 non-null object\n",
      "dtypes: object(2)\n",
      "memory usage: 449.1+ KB\n"
     ]
    }
   ],
   "source": [
    "# Check data type\n",
    "yakima_450_discharge.info()"
   ]
  },
  {
   "cell_type": "code",
   "execution_count": 88,
   "metadata": {
    "scrolled": true
   },
   "outputs": [
    {
     "name": "stdout",
     "output_type": "stream",
     "text": [
      "<class 'pandas.core.frame.DataFrame'>\n",
      "RangeIndex: 19161 entries, 0 to 19160\n",
      "Data columns (total 2 columns):\n",
      "date          19161 non-null object\n",
      "mean_q_cfs    19161 non-null int64\n",
      "dtypes: int64(1), object(1)\n",
      "memory usage: 299.5+ KB\n"
     ]
    }
   ],
   "source": [
    "# Convert discharge data to numeric\n",
    "yakima_450_discharge = yakima_450_discharge.copy()\n",
    "yakima_450_discharge['mean_q_cfs'] = yakima_450_discharge['mean_q_cfs'].apply(pd.to_numeric, errors = 'coerce')\n",
    "yakima_450_discharge.info()"
   ]
  },
  {
   "cell_type": "markdown",
   "metadata": {},
   "source": [
    "The date object need to be converted into datetime format and set as dataframe index."
   ]
  },
  {
   "cell_type": "code",
   "execution_count": 90,
   "metadata": {},
   "outputs": [
    {
     "data": {
      "text/plain": [
       "DatetimeIndex(['1966-10-01', '1966-10-02', '1966-10-03', '1966-10-04',\n",
       "               '1966-10-05', '1966-10-06', '1966-10-07', '1966-10-08',\n",
       "               '1966-10-09', '1966-10-10',\n",
       "               ...\n",
       "               '2019-03-08', '2019-03-09', '2019-03-10', '2019-03-11',\n",
       "               '2019-03-12', '2019-03-13', '2019-03-14', '2019-03-15',\n",
       "               '2019-03-16', '2019-03-17'],\n",
       "              dtype='datetime64[ns]', name='date', length=19161, freq=None)"
      ]
     },
     "execution_count": 90,
     "metadata": {},
     "output_type": "execute_result"
    }
   ],
   "source": [
    "# Convert date into datetime and reset index\n",
    "yakima_450_discharge = yakima_450_discharge.copy()\n",
    "yakima_450_discharge['date'] = pd.to_datetime(yakima_450_discharge['date'])\n",
    "yakima_450_discharge = yakima_450_discharge.set_index(['date'])\n",
    "yakima_450_discharge.index"
   ]
  },
  {
   "cell_type": "code",
   "execution_count": 105,
   "metadata": {},
   "outputs": [],
   "source": [
    "# Export cleaned data into local disk for Phase II and III\n",
    "yakima_450_discharge.to_csv('yakima_450_discharge.csv', sep = ',')"
   ]
  },
  {
   "cell_type": "markdown",
   "metadata": {},
   "source": [
    "### Visualize Flow Time Series"
   ]
  },
  {
   "cell_type": "code",
   "execution_count": 97,
   "metadata": {},
   "outputs": [
    {
     "data": {
      "image/png": "[encoded data removed]",
      "text/plain": [
       "<Figure size 1440x576 with 1 Axes>"
      ]
     },
     "metadata": {
      "needs_background": "light"
     },
     "output_type": "display_data"
    }
   ],
   "source": [
    "# Plot mean daily discharge\n",
    "plt.style.use('classic')\n",
    "%matplotlib inline\n",
    "yakima_ = yakima_450_discharge.copy()\n",
    "fig = plt.figure(figsize=(20,8))\n",
    "plt.plot(yakima_.mean_q_cfs, marker='.', linestyle='none')\n",
    "plt.ylabel('Mean Daily Discharge (cfs)')\n",
    "plt.xlabel('Date')\n",
    "plt.show()\n",
    "\n",
    "# Export fig\n",
    "fig.savefig('yakima_450_discharge.png', dpi=500)"
   ]
  },
  {
   "cell_type": "markdown",
   "metadata": {},
   "source": [
    "## Daily Flow Record at Ahtanum Creek station (12502500)"
   ]
  },
  {
   "cell_type": "code",
   "execution_count": 179,
   "metadata": {
    "scrolled": false
   },
   "outputs": [
    {
     "name": "stdout",
     "output_type": "stream",
     "text": [
      "(24763, 7)\n"
     ]
    },
    {
     "data": {
      "text/html": [
       "<div>\n",
       "<style scoped>\n",
       "    .dataframe tbody tr th:only-of-type {\n",
       "        vertical-align: middle;\n",
       "    }\n",
       "\n",
       "    .dataframe tbody tr th {\n",
       "        vertical-align: top;\n",
       "    }\n",
       "\n",
       "    .dataframe thead th {\n",
       "        text-align: right;\n",
       "    }\n",
       "</style>\n",
       "<table border=\"1\" class=\"dataframe\">\n",
       "  <thead>\n",
       "    <tr style=\"text-align: right;\">\n",
       "      <th></th>\n",
       "      <th>agency_cd</th>\n",
       "      <th>site_no</th>\n",
       "      <th>datetime</th>\n",
       "      <th>149973_00060_00003</th>\n",
       "      <th>149973_00060_00003_cd</th>\n",
       "      <th>149974_00065_00003</th>\n",
       "      <th>149974_00065_00003_cd</th>\n",
       "    </tr>\n",
       "  </thead>\n",
       "  <tbody>\n",
       "    <tr>\n",
       "      <th>0</th>\n",
       "      <td>5s</td>\n",
       "      <td>15s</td>\n",
       "      <td>20d</td>\n",
       "      <td>14n</td>\n",
       "      <td>10s</td>\n",
       "      <td>14n</td>\n",
       "      <td>10s</td>\n",
       "    </tr>\n",
       "    <tr>\n",
       "      <th>1</th>\n",
       "      <td>USGS</td>\n",
       "      <td>12502500</td>\n",
       "      <td>1951-06-01</td>\n",
       "      <td>247</td>\n",
       "      <td>A</td>\n",
       "      <td>NaN</td>\n",
       "      <td>NaN</td>\n",
       "    </tr>\n",
       "    <tr>\n",
       "      <th>2</th>\n",
       "      <td>USGS</td>\n",
       "      <td>12502500</td>\n",
       "      <td>1951-06-02</td>\n",
       "      <td>234</td>\n",
       "      <td>A</td>\n",
       "      <td>NaN</td>\n",
       "      <td>NaN</td>\n",
       "    </tr>\n",
       "    <tr>\n",
       "      <th>3</th>\n",
       "      <td>USGS</td>\n",
       "      <td>12502500</td>\n",
       "      <td>1951-06-03</td>\n",
       "      <td>226</td>\n",
       "      <td>A</td>\n",
       "      <td>NaN</td>\n",
       "      <td>NaN</td>\n",
       "    </tr>\n",
       "    <tr>\n",
       "      <th>4</th>\n",
       "      <td>USGS</td>\n",
       "      <td>12502500</td>\n",
       "      <td>1951-06-04</td>\n",
       "      <td>270</td>\n",
       "      <td>A</td>\n",
       "      <td>NaN</td>\n",
       "      <td>NaN</td>\n",
       "    </tr>\n",
       "  </tbody>\n",
       "</table>\n",
       "</div>"
      ],
      "text/plain": [
       "  agency_cd   site_no    datetime 149973_00060_00003 149973_00060_00003_cd  \\\n",
       "0        5s       15s         20d                14n                   10s   \n",
       "1      USGS  12502500  1951-06-01                247                     A   \n",
       "2      USGS  12502500  1951-06-02                234                     A   \n",
       "3      USGS  12502500  1951-06-03                226                     A   \n",
       "4      USGS  12502500  1951-06-04                270                     A   \n",
       "\n",
       "  149974_00065_00003 149974_00065_00003_cd  \n",
       "0                14n                   10s  \n",
       "1                NaN                   NaN  \n",
       "2                NaN                   NaN  \n",
       "3                NaN                   NaN  \n",
       "4                NaN                   NaN  "
      ]
     },
     "execution_count": 179,
     "metadata": {},
     "output_type": "execute_result"
    }
   ],
   "source": [
    "# Read data from Ahtanum Creek station (12502500)\n",
    "pd.options.display.max_columns = 50\n",
    "ahtanum_500 = pd.read_csv('https://waterdata.usgs.gov/wa/nwis/dv?referred_module=sw&search_site_no=12502500&search_site_no_match_type=exact&site_tp_cd=OC&site_tp_cd=OC-CO&site_tp_cd=ES&site_tp_cd=LK&site_tp_cd=ST&site_tp_cd=ST-CA&site_tp_cd=ST-DCH&site_tp_cd=ST-TS&group_key=NONE&sitefile_output_format=html_table&column_name=agency_cd&column_name=site_no&column_name=station_nm&range_selection=date_range&begin_date=1950-03-31&end_date=2019-03-17&format=rdb&date_format=YYYY-MM-DD&rdb_compression=value&list_of_search_criteria=search_site_no%2Csite_tp_cd%2Crealtime_parameter_selection', sep='\\t', header = 30)\n",
    "print(ahtanum_500.shape) \n",
    "ahtanum_500.head () "
   ]
  },
  {
   "cell_type": "markdown",
   "metadata": {},
   "source": [
    "## Clean Data\n",
    "\n",
    "+ Data set contains daily records of discharge (mean) and gage height (mean). \n",
    "+ The dataframe has two header columns. The first header column is the name of features in numerical codes and should be renamed to make it easy to understand. The second header is a piece of supplemental information that is not needed for this analysis. \n",
    "+ The first row contains information not relevant for this analysis\n",
    "+ **\"_cd\"** in column names is a description of data-qualification code which indicates\n",
    "     + **A** - Approved for publication -- processing and review completed\n",
    "     + **P** - Provisional data subject to revision\n",
    "     + **e** - Value has been estimated\n",
    "+ Missing values need to be removed or replaced"
   ]
  },
  {
   "cell_type": "markdown",
   "metadata": {},
   "source": [
    "### Rename Columns"
   ]
  },
  {
   "cell_type": "code",
   "execution_count": 180,
   "metadata": {},
   "outputs": [
    {
     "data": {
      "text/plain": [
       "Index(['agency_cd', 'site_no', 'datetime', '149973_00060_00003',\n",
       "       '149973_00060_00003_cd', '149974_00065_00003', '149974_00065_00003_cd'],\n",
       "      dtype='object')"
      ]
     },
     "execution_count": 180,
     "metadata": {},
     "output_type": "execute_result"
    }
   ],
   "source": [
    "ahtanum_500.columns"
   ]
  },
  {
   "cell_type": "code",
   "execution_count": 181,
   "metadata": {},
   "outputs": [
    {
     "data": {
      "text/html": [
       "<div>\n",
       "<style scoped>\n",
       "    .dataframe tbody tr th:only-of-type {\n",
       "        vertical-align: middle;\n",
       "    }\n",
       "\n",
       "    .dataframe tbody tr th {\n",
       "        vertical-align: top;\n",
       "    }\n",
       "\n",
       "    .dataframe thead th {\n",
       "        text-align: right;\n",
       "    }\n",
       "</style>\n",
       "<table border=\"1\" class=\"dataframe\">\n",
       "  <thead>\n",
       "    <tr style=\"text-align: right;\">\n",
       "      <th></th>\n",
       "      <th>agency_cd</th>\n",
       "      <th>site_no</th>\n",
       "      <th>date</th>\n",
       "      <th>mean_q_cfs</th>\n",
       "      <th>mean_q_cfs_cd</th>\n",
       "      <th>mean_h_ft</th>\n",
       "      <th>mean_h_ft_cd</th>\n",
       "    </tr>\n",
       "  </thead>\n",
       "  <tbody>\n",
       "    <tr>\n",
       "      <th>0</th>\n",
       "      <td>5s</td>\n",
       "      <td>15s</td>\n",
       "      <td>20d</td>\n",
       "      <td>14n</td>\n",
       "      <td>10s</td>\n",
       "      <td>14n</td>\n",
       "      <td>10s</td>\n",
       "    </tr>\n",
       "    <tr>\n",
       "      <th>1</th>\n",
       "      <td>USGS</td>\n",
       "      <td>12502500</td>\n",
       "      <td>1951-06-01</td>\n",
       "      <td>247</td>\n",
       "      <td>A</td>\n",
       "      <td>NaN</td>\n",
       "      <td>NaN</td>\n",
       "    </tr>\n",
       "    <tr>\n",
       "      <th>2</th>\n",
       "      <td>USGS</td>\n",
       "      <td>12502500</td>\n",
       "      <td>1951-06-02</td>\n",
       "      <td>234</td>\n",
       "      <td>A</td>\n",
       "      <td>NaN</td>\n",
       "      <td>NaN</td>\n",
       "    </tr>\n",
       "    <tr>\n",
       "      <th>3</th>\n",
       "      <td>USGS</td>\n",
       "      <td>12502500</td>\n",
       "      <td>1951-06-03</td>\n",
       "      <td>226</td>\n",
       "      <td>A</td>\n",
       "      <td>NaN</td>\n",
       "      <td>NaN</td>\n",
       "    </tr>\n",
       "    <tr>\n",
       "      <th>4</th>\n",
       "      <td>USGS</td>\n",
       "      <td>12502500</td>\n",
       "      <td>1951-06-04</td>\n",
       "      <td>270</td>\n",
       "      <td>A</td>\n",
       "      <td>NaN</td>\n",
       "      <td>NaN</td>\n",
       "    </tr>\n",
       "  </tbody>\n",
       "</table>\n",
       "</div>"
      ],
      "text/plain": [
       "  agency_cd   site_no        date mean_q_cfs mean_q_cfs_cd mean_h_ft  \\\n",
       "0        5s       15s         20d        14n           10s       14n   \n",
       "1      USGS  12502500  1951-06-01        247             A       NaN   \n",
       "2      USGS  12502500  1951-06-02        234             A       NaN   \n",
       "3      USGS  12502500  1951-06-03        226             A       NaN   \n",
       "4      USGS  12502500  1951-06-04        270             A       NaN   \n",
       "\n",
       "  mean_h_ft_cd  \n",
       "0          10s  \n",
       "1          NaN  \n",
       "2          NaN  \n",
       "3          NaN  \n",
       "4          NaN  "
      ]
     },
     "execution_count": 181,
     "metadata": {},
     "output_type": "execute_result"
    }
   ],
   "source": [
    "# Rename columns\n",
    "cols_name2 = {'datetime': 'date', '149973_00060_00003': 'mean_q_cfs', '149973_00060_00003_cd' : 'mean_q_cfs_cd', \n",
    "             '149974_00065_00003': 'mean_h_ft', '149974_00065_00003_cd': 'mean_h_ft_cd'}\n",
    "\n",
    "ahtanum_500 = ahtanum_500.rename(columns = cols_name2)\n",
    "ahtanum_500.head()"
   ]
  },
  {
   "cell_type": "code",
   "execution_count": 183,
   "metadata": {},
   "outputs": [],
   "source": [
    "# Remove the second header at index [0]\n",
    "ahtanum_500 = ahtanum_500.copy()\n",
    "ahtanum_500 = ahtanum_500.drop(ahtanum_500.index[0]).reset_index()"
   ]
  },
  {
   "cell_type": "markdown",
   "metadata": {},
   "source": [
    "### Explore Data Qualification Code"
   ]
  },
  {
   "cell_type": "code",
   "execution_count": 184,
   "metadata": {},
   "outputs": [
    {
     "data": {
      "text/plain": [
       "A      98.487524\n",
       "A:e     0.765295\n",
       "P       0.747181\n",
       "Name: mean_q_cfs_cd, dtype: float64"
      ]
     },
     "execution_count": 184,
     "metadata": {},
     "output_type": "execute_result"
    }
   ],
   "source": [
    "# Explore the QA-cd for discharge\n",
    "ahtanum_500['mean_q_cfs_cd'].value_counts(normalize = True)*100"
   ]
  },
  {
   "cell_type": "markdown",
   "metadata": {},
   "source": [
    "Over 99% of discharge data quality is approved. "
   ]
  },
  {
   "cell_type": "code",
   "execution_count": 185,
   "metadata": {
    "scrolled": true
   },
   "outputs": [
    {
     "name": "stdout",
     "output_type": "stream",
     "text": [
      "First five rows\n",
      "--------------------------------\n",
      "24597    2018-10-04\n",
      "24598    2018-10-05\n",
      "24599    2018-10-06\n",
      "24600    2018-10-07\n",
      "24601    2018-10-08\n",
      "Name: date, dtype: object\n",
      "\n",
      "Last five rows\n",
      "--------------------------------\n",
      "24757    2019-03-13\n",
      "24758    2019-03-14\n",
      "24759    2019-03-15\n",
      "24760    2019-03-16\n",
      "24761    2019-03-17\n",
      "Name: date, dtype: object\n"
     ]
    }
   ],
   "source": [
    "# Explore provisional data\n",
    "ahtanum_500 = ahtanum_500.copy()\n",
    "print ('First five rows' + '\\n' + '-'*32)\n",
    "print(ahtanum_500[(ahtanum_500['mean_q_cfs_cd'] == 'P:e') | \n",
    "                     (ahtanum_500['mean_q_cfs_cd'] == 'P')]['date'].head())\n",
    "print('\\n' + 'Last five rows' + '\\n' + '-'*32 )\n",
    "print(ahtanum_500[(ahtanum_500['mean_q_cfs_cd'] == 'P:e') | \n",
    "                  (ahtanum_500['mean_q_cfs_cd'] == 'P')]['date'].tail())"
   ]
  },
  {
   "cell_type": "markdown",
   "metadata": {},
   "source": [
    "The provisional data are recorded/estimateed in 2018-2019, which are likely under QA process. These data points need to be excluded.  "
   ]
  },
  {
   "cell_type": "markdown",
   "metadata": {},
   "source": [
    "### Separate Discharge Data\n",
    "\n",
    "This creates a dataset of mean discharge (q_mean_cfs) and date (date) columns with rows where data qualities are approved (A, A:e)."
   ]
  },
  {
   "cell_type": "code",
   "execution_count": 186,
   "metadata": {},
   "outputs": [
    {
     "data": {
      "text/html": [
       "<div>\n",
       "<style scoped>\n",
       "    .dataframe tbody tr th:only-of-type {\n",
       "        vertical-align: middle;\n",
       "    }\n",
       "\n",
       "    .dataframe tbody tr th {\n",
       "        vertical-align: top;\n",
       "    }\n",
       "\n",
       "    .dataframe thead th {\n",
       "        text-align: right;\n",
       "    }\n",
       "</style>\n",
       "<table border=\"1\" class=\"dataframe\">\n",
       "  <thead>\n",
       "    <tr style=\"text-align: right;\">\n",
       "      <th></th>\n",
       "      <th>date</th>\n",
       "      <th>mean_q_cfs</th>\n",
       "    </tr>\n",
       "  </thead>\n",
       "  <tbody>\n",
       "    <tr>\n",
       "      <th>0</th>\n",
       "      <td>1951-06-01</td>\n",
       "      <td>247</td>\n",
       "    </tr>\n",
       "    <tr>\n",
       "      <th>1</th>\n",
       "      <td>1951-06-02</td>\n",
       "      <td>234</td>\n",
       "    </tr>\n",
       "    <tr>\n",
       "      <th>2</th>\n",
       "      <td>1951-06-03</td>\n",
       "      <td>226</td>\n",
       "    </tr>\n",
       "    <tr>\n",
       "      <th>3</th>\n",
       "      <td>1951-06-04</td>\n",
       "      <td>270</td>\n",
       "    </tr>\n",
       "    <tr>\n",
       "      <th>4</th>\n",
       "      <td>1951-06-05</td>\n",
       "      <td>335</td>\n",
       "    </tr>\n",
       "  </tbody>\n",
       "</table>\n",
       "</div>"
      ],
      "text/plain": [
       "         date mean_q_cfs\n",
       "0  1951-06-01        247\n",
       "1  1951-06-02        234\n",
       "2  1951-06-03        226\n",
       "3  1951-06-04        270\n",
       "4  1951-06-05        335"
      ]
     },
     "execution_count": 186,
     "metadata": {},
     "output_type": "execute_result"
    }
   ],
   "source": [
    "ahtanum_500 = ahtanum_500[(ahtanum_500['mean_q_cfs_cd'] == 'A:e') |\n",
    "                                (ahtanum_500['mean_q_cfs_cd'] == 'A')]\n",
    "ahtanum_500 = ahtanum_500[['date', 'mean_q_cfs']]\n",
    "ahtanum_500.head()"
   ]
  },
  {
   "cell_type": "markdown",
   "metadata": {},
   "source": [
    "### Handle Missing Values"
   ]
  },
  {
   "cell_type": "code",
   "execution_count": 187,
   "metadata": {},
   "outputs": [
    {
     "data": {
      "text/plain": [
       "date          0\n",
       "mean_q_cfs    0\n",
       "dtype: int64"
      ]
     },
     "execution_count": 187,
     "metadata": {},
     "output_type": "execute_result"
    }
   ],
   "source": [
    "# Explore missing values\n",
    "ahtanum_500.isnull().sum()"
   ]
  },
  {
   "cell_type": "markdown",
   "metadata": {},
   "source": [
    "It seems that there is no missing values with nan inspectation. However, missing values can be represented with '0.' This need to be inspected."
   ]
  },
  {
   "cell_type": "code",
   "execution_count": 188,
   "metadata": {},
   "outputs": [
    {
     "name": "stdout",
     "output_type": "stream",
     "text": [
      "10.0\n"
     ]
    },
    {
     "data": {
      "text/html": [
       "<div>\n",
       "<style scoped>\n",
       "    .dataframe tbody tr th:only-of-type {\n",
       "        vertical-align: middle;\n",
       "    }\n",
       "\n",
       "    .dataframe tbody tr th {\n",
       "        vertical-align: top;\n",
       "    }\n",
       "\n",
       "    .dataframe thead th {\n",
       "        text-align: right;\n",
       "    }\n",
       "</style>\n",
       "<table border=\"1\" class=\"dataframe\">\n",
       "  <thead>\n",
       "    <tr style=\"text-align: right;\">\n",
       "      <th></th>\n",
       "      <th>date</th>\n",
       "      <th>mean_q_cfs</th>\n",
       "    </tr>\n",
       "  </thead>\n",
       "  <tbody>\n",
       "  </tbody>\n",
       "</table>\n",
       "</div>"
      ],
      "text/plain": [
       "Empty DataFrame\n",
       "Columns: [date, mean_q_cfs]\n",
       "Index: []"
      ]
     },
     "execution_count": 188,
     "metadata": {},
     "output_type": "execute_result"
    }
   ],
   "source": [
    "print(ahtanum_500['mean_q_cfs'].min())\n",
    "ahtanum_500[ahtanum_500['mean_q_cfs']==0]"
   ]
  },
  {
   "cell_type": "markdown",
   "metadata": {},
   "source": [
    "This confirms that the dataframe has no missing values."
   ]
  },
  {
   "cell_type": "markdown",
   "metadata": {},
   "source": [
    "### Check Duplicates"
   ]
  },
  {
   "cell_type": "code",
   "execution_count": 192,
   "metadata": {},
   "outputs": [
    {
     "data": {
      "text/plain": [
       "count          21918\n",
       "unique         21918\n",
       "top       2010-06-30\n",
       "freq               1\n",
       "Name: date, dtype: object"
      ]
     },
     "execution_count": 192,
     "metadata": {},
     "output_type": "execute_result"
    }
   ],
   "source": [
    "# Check duplicates by displaying date unique values\n",
    "\n",
    "ahtanum_500['date'].describe()"
   ]
  },
  {
   "cell_type": "markdown",
   "metadata": {},
   "source": [
    "Since the total data point count is equal to the number of unique date, there is no duplicate in the time series."
   ]
  },
  {
   "cell_type": "markdown",
   "metadata": {},
   "source": [
    "### Transform Data to Time Series"
   ]
  },
  {
   "cell_type": "code",
   "execution_count": 193,
   "metadata": {},
   "outputs": [
    {
     "name": "stdout",
     "output_type": "stream",
     "text": [
      "<class 'pandas.core.frame.DataFrame'>\n",
      "Int64Index: 21918 entries, 0 to 24596\n",
      "Data columns (total 2 columns):\n",
      "date          21918 non-null object\n",
      "mean_q_cfs    21918 non-null object\n",
      "dtypes: object(2)\n",
      "memory usage: 513.7+ KB\n"
     ]
    }
   ],
   "source": [
    "# Check data type\n",
    "ahtanum_500.info()"
   ]
  },
  {
   "cell_type": "code",
   "execution_count": 194,
   "metadata": {},
   "outputs": [
    {
     "name": "stdout",
     "output_type": "stream",
     "text": [
      "<class 'pandas.core.frame.DataFrame'>\n",
      "Int64Index: 21918 entries, 0 to 24596\n",
      "Data columns (total 2 columns):\n",
      "date          21918 non-null object\n",
      "mean_q_cfs    21918 non-null float64\n",
      "dtypes: float64(1), object(1)\n",
      "memory usage: 513.7+ KB\n"
     ]
    }
   ],
   "source": [
    "# Convert discharge data to numeric\n",
    "ahtanum_500 = ahtanum_500.copy()\n",
    "ahtanum_500['mean_q_cfs'] = ahtanum_500['mean_q_cfs'].apply(pd.to_numeric, errors = 'coerce')\n",
    "ahtanum_500.info()"
   ]
  },
  {
   "cell_type": "code",
   "execution_count": 195,
   "metadata": {
    "scrolled": false
   },
   "outputs": [
    {
     "data": {
      "text/plain": [
       "DatetimeIndex(['1951-06-01', '1951-06-02', '1951-06-03', '1951-06-04',\n",
       "               '1951-06-05', '1951-06-06', '1951-06-07', '1951-06-08',\n",
       "               '1951-06-09', '1951-06-10',\n",
       "               ...\n",
       "               '2018-09-24', '2018-09-25', '2018-09-26', '2018-09-27',\n",
       "               '2018-09-28', '2018-09-29', '2018-09-30', '2018-10-01',\n",
       "               '2018-10-02', '2018-10-03'],\n",
       "              dtype='datetime64[ns]', name='date', length=21918, freq=None)"
      ]
     },
     "execution_count": 195,
     "metadata": {},
     "output_type": "execute_result"
    }
   ],
   "source": [
    "# Convert date into datetime and reset index\n",
    "ahtanum_500 = ahtanum_500.copy()\n",
    "ahtanum_500['date'] = pd.to_datetime(ahtanum_500['date'])\n",
    "ahtanum_500 = ahtanum_500.set_index(['date'])\n",
    "ahtanum_500.index"
   ]
  },
  {
   "cell_type": "code",
   "execution_count": 196,
   "metadata": {},
   "outputs": [],
   "source": [
    "# Export cleaned data into local disk for Phase II and III\n",
    "ahtanum_500.to_csv('ahtanum_500.csv', sep = ',')"
   ]
  },
  {
   "cell_type": "code",
   "execution_count": 197,
   "metadata": {},
   "outputs": [
    {
     "data": {
      "image/png": "[encoded data removed]",
      "text/plain": [
       "<Figure size 864x432 with 1 Axes>"
      ]
     },
     "metadata": {
      "needs_background": "light"
     },
     "output_type": "display_data"
    }
   ],
   "source": [
    "# Plot flow\n",
    "plt.style.use('classic')\n",
    "%matplotlib inline\n",
    "ahtanum_500 = ahtanum_500.copy()\n",
    "fig = plt.figure(figsize=(12,6))\n",
    "plt.plot(ahtanum_500, marker='.', linestyle='none')\n",
    "plt.ylabel('Mean Daily Discharge (cfs)')\n",
    "plt.xlabel('Date')\n",
    "plt.show()\n",
    "\n",
    "# Export fig\n",
    "fig.savefig('ahtanum_500.png', dpi=500)"
   ]
  }
 ],
 "metadata": {
  "kernelspec": {
   "display_name": "Python 3",
   "language": "python",
   "name": "python3"
  },
  "language_info": {
   "codemirror_mode": {
    "name": "ipython",
    "version": 3
   },
   "file_extension": ".py",
   "mimetype": "text/x-python",
   "name": "python",
   "nbconvert_exporter": "python",
   "pygments_lexer": "ipython3",
   "version": "3.7.2"
  }
 },
 "nbformat": 4,
 "nbformat_minor": 2
}
